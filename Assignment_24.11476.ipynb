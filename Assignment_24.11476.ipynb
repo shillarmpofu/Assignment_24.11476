{
 "cells": [
  {
   "cell_type": "code",
   "execution_count": 4,
   "metadata": {},
   "outputs": [
    {
     "name": "stdout",
     "output_type": "stream",
     "text": [
      "['A', 'C', 'A', 'D', 'G', 'I', 'L', 'D']\n",
      "['x', 'xx', 'xxx', 'xxxx', 'y', 'yy', 'yyy', 'yyyy', 'z', 'zz', 'zzz', 'zzzz']\n",
      "['x', 'y', 'z', 'xx', 'yy', 'zz', 'xxx', 'yyy', 'zzz', 'xxxx', 'yyyy', 'zzzz']\n",
      "[[2], [3], [4], [3], [4], [5], [4], [5], [6]]\n",
      "[[2, 3, 4, 5], [3, 4, 5, 6], [4, 5, 6, 7], [5, 6, 7, 8]]\n",
      "[(1, 1), (2, 1), (3, 1), (1, 2), (2, 2), (3, 2), (1, 3), (2, 3), (3, 3)]\n"
     ]
    }
   ],
   "source": [
    "Word =\"ACADGILD\"\n",
    "List = [letter for letter in Word]\n",
    "print(List)\n",
    "\n",
    "Items =['x','y','z']\n",
    "New_Items=[item*num for item in Items for num in range(1,5)]\n",
    "print(New_Items)\n",
    "\n",
    "Items =['x','y','z']\n",
    "New_Items=[item*num for num in range(1,5) for  item in Items]\n",
    "print(New_Items)\n",
    "\n",
    "Number = [2,3,4]\n",
    "New_Number =[[item+num] for item in Number for num in range(0,3)]\n",
    "print(New_Number)\n",
    "\n",
    "My_Number2 = [2,3,4,5]\n",
    "New_Number2 =[[item+num for item in My_Number2 ]for num in range(0,4)]\n",
    "print(New_Number2)\n",
    "\n",
    "My_Number3 = [(y,x) for x in [1,2,3] for y in [1,2,3] ]\n",
    "print(My_Number3)\n",
    "\n"
   ]
  },
  {
   "cell_type": "code",
   "execution_count": null,
   "metadata": {},
   "outputs": [],
   "source": []
  }
 ],
 "metadata": {
  "kernelspec": {
   "display_name": "Python 3",
   "language": "python",
   "name": "python3"
  },
  "language_info": {
   "codemirror_mode": {
    "name": "ipython",
    "version": 3
   },
   "file_extension": ".py",
   "mimetype": "text/x-python",
   "name": "python",
   "nbconvert_exporter": "python",
   "pygments_lexer": "ipython3",
   "version": "3.7.0"
  }
 },
 "nbformat": 4,
 "nbformat_minor": 2
}
